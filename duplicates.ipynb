{
 "cells": [
  {
   "cell_type": "code",
   "execution_count": 19,
   "metadata": {
    "collapsed": true
   },
   "outputs": [],
   "source": [
    "import pandas as pd"
   ]
  },
  {
   "cell_type": "markdown",
   "source": [
    "## Searching for duplicate values"
   ],
   "metadata": {
    "collapsed": false,
    "pycharm": {
     "name": "#%% md\n"
    }
   }
  },
  {
   "cell_type": "markdown",
   "source": [
    "Search for duplicate and missing data of the original data and the first updated data"
   ],
   "metadata": {
    "collapsed": false,
    "pycharm": {
     "name": "#%% md\n"
    }
   }
  },
  {
   "cell_type": "code",
   "execution_count": 20,
   "outputs": [
    {
     "name": "stdout",
     "output_type": "stream",
     "text": [
      "Here are the rows that are duplicate in the data:\n"
     ]
    },
    {
     "data": {
      "text/plain": "            date  level\n2521  2019-11-26    129\n2535  2019-12-09    163",
      "text/html": "<div>\n<style scoped>\n    .dataframe tbody tr th:only-of-type {\n        vertical-align: middle;\n    }\n\n    .dataframe tbody tr th {\n        vertical-align: top;\n    }\n\n    .dataframe thead th {\n        text-align: right;\n    }\n</style>\n<table border=\"1\" class=\"dataframe\">\n  <thead>\n    <tr style=\"text-align: right;\">\n      <th></th>\n      <th>date</th>\n      <th>level</th>\n    </tr>\n  </thead>\n  <tbody>\n    <tr>\n      <th>2521</th>\n      <td>2019-11-26</td>\n      <td>129</td>\n    </tr>\n    <tr>\n      <th>2535</th>\n      <td>2019-12-09</td>\n      <td>163</td>\n    </tr>\n  </tbody>\n</table>\n</div>"
     },
     "execution_count": 20,
     "metadata": {},
     "output_type": "execute_result"
    }
   ],
   "source": [
    "df = pd.read_csv('data/Kaub_Level_Since_2013.csv')\n",
    "print('Here are the rows that are duplicate in the data:')\n",
    "df[df.duplicated(['date'])]"
   ],
   "metadata": {
    "collapsed": false,
    "pycharm": {
     "name": "#%%\n"
    }
   }
  },
  {
   "cell_type": "code",
   "execution_count": 21,
   "outputs": [
    {
     "name": "stdout",
     "output_type": "stream",
     "text": [
      "These are a list of duplicate values: \n",
      "Info: A value once in this list means it is twice in the dataset. \n",
      "If it appears twice in this list, then it is thrice in the dataset and so on.\n"
     ]
    },
    {
     "data": {
      "text/plain": "            date  level\n2521  2019-11-26    129\n2535  2019-12-09    163\n3101  2021-06-26    335\n3102  2021-06-26    335\n3104  2021-06-27    336\n3105  2021-06-27    336\n3107  2021-06-28    321\n3108  2021-06-28    321\n3110  2021-06-29    312\n3112  2021-06-30    354\n3114  2021-07-01    366\n3116  2021-07-02    380\n3117  2021-07-02    380\n3118  2021-07-02    380\n3120  2021-07-03    383\n3122  2021-07-04    368\n3124  2021-07-05    345\n3126  2021-07-06    334\n3128  2021-07-07    329\n3130  2021-07-08    319",
      "text/html": "<div>\n<style scoped>\n    .dataframe tbody tr th:only-of-type {\n        vertical-align: middle;\n    }\n\n    .dataframe tbody tr th {\n        vertical-align: top;\n    }\n\n    .dataframe thead th {\n        text-align: right;\n    }\n</style>\n<table border=\"1\" class=\"dataframe\">\n  <thead>\n    <tr style=\"text-align: right;\">\n      <th></th>\n      <th>date</th>\n      <th>level</th>\n    </tr>\n  </thead>\n  <tbody>\n    <tr>\n      <th>2521</th>\n      <td>2019-11-26</td>\n      <td>129</td>\n    </tr>\n    <tr>\n      <th>2535</th>\n      <td>2019-12-09</td>\n      <td>163</td>\n    </tr>\n    <tr>\n      <th>3101</th>\n      <td>2021-06-26</td>\n      <td>335</td>\n    </tr>\n    <tr>\n      <th>3102</th>\n      <td>2021-06-26</td>\n      <td>335</td>\n    </tr>\n    <tr>\n      <th>3104</th>\n      <td>2021-06-27</td>\n      <td>336</td>\n    </tr>\n    <tr>\n      <th>3105</th>\n      <td>2021-06-27</td>\n      <td>336</td>\n    </tr>\n    <tr>\n      <th>3107</th>\n      <td>2021-06-28</td>\n      <td>321</td>\n    </tr>\n    <tr>\n      <th>3108</th>\n      <td>2021-06-28</td>\n      <td>321</td>\n    </tr>\n    <tr>\n      <th>3110</th>\n      <td>2021-06-29</td>\n      <td>312</td>\n    </tr>\n    <tr>\n      <th>3112</th>\n      <td>2021-06-30</td>\n      <td>354</td>\n    </tr>\n    <tr>\n      <th>3114</th>\n      <td>2021-07-01</td>\n      <td>366</td>\n    </tr>\n    <tr>\n      <th>3116</th>\n      <td>2021-07-02</td>\n      <td>380</td>\n    </tr>\n    <tr>\n      <th>3117</th>\n      <td>2021-07-02</td>\n      <td>380</td>\n    </tr>\n    <tr>\n      <th>3118</th>\n      <td>2021-07-02</td>\n      <td>380</td>\n    </tr>\n    <tr>\n      <th>3120</th>\n      <td>2021-07-03</td>\n      <td>383</td>\n    </tr>\n    <tr>\n      <th>3122</th>\n      <td>2021-07-04</td>\n      <td>368</td>\n    </tr>\n    <tr>\n      <th>3124</th>\n      <td>2021-07-05</td>\n      <td>345</td>\n    </tr>\n    <tr>\n      <th>3126</th>\n      <td>2021-07-06</td>\n      <td>334</td>\n    </tr>\n    <tr>\n      <th>3128</th>\n      <td>2021-07-07</td>\n      <td>329</td>\n    </tr>\n    <tr>\n      <th>3130</th>\n      <td>2021-07-08</td>\n      <td>319</td>\n    </tr>\n  </tbody>\n</table>\n</div>"
     },
     "execution_count": 21,
     "metadata": {},
     "output_type": "execute_result"
    }
   ],
   "source": [
    "df_updated = pd.read_csv('data/Kaub_Level_Since_2013_updated.csv')\n",
    "df_update1 = df_updated[df_updated.duplicated(['date'])]\n",
    "print('These are a list of duplicate values: ')\n",
    "print('Info: A value once in this list means it is twice in the dataset. \\nIf it appears\\\n",
    " twice in this list, then it is thrice in the dataset and so on.')\n",
    "df_update1"
   ],
   "metadata": {
    "collapsed": false,
    "pycharm": {
     "name": "#%%\n"
    }
   }
  },
  {
   "cell_type": "code",
   "execution_count": 22,
   "outputs": [
    {
     "name": "stdout",
     "output_type": "stream",
     "text": [
      "<class 'pandas.core.frame.DataFrame'>\n",
      "RangeIndex: 3209 entries, 0 to 3208\n",
      "Data columns (total 2 columns):\n",
      " #   Column  Non-Null Count  Dtype \n",
      "---  ------  --------------  ----- \n",
      " 0   date    3209 non-null   object\n",
      " 1   level   3209 non-null   int64 \n",
      "dtypes: int64(1), object(1)\n",
      "memory usage: 50.3+ KB\n"
     ]
    }
   ],
   "source": [
    "df_updated.info()"
   ],
   "metadata": {
    "collapsed": false,
    "pycharm": {
     "name": "#%%\n"
    }
   }
  },
  {
   "cell_type": "markdown",
   "source": [
    "## Searching for missing values\n",
    "First, let's have a look how much more data is in the updated data in contrast to the original data"
   ],
   "metadata": {
    "collapsed": false,
    "pycharm": {
     "name": "#%% md\n"
    }
   }
  },
  {
   "cell_type": "code",
   "execution_count": 23,
   "outputs": [
    {
     "data": {
      "text/plain": "            date  level\n3219  2021-10-23    117\n3220  2021-10-24    105\n3221  2021-10-25     93\n3222  2021-10-26     85\n3223  2021-10-27     82",
      "text/html": "<div>\n<style scoped>\n    .dataframe tbody tr th:only-of-type {\n        vertical-align: middle;\n    }\n\n    .dataframe tbody tr th {\n        vertical-align: top;\n    }\n\n    .dataframe thead th {\n        text-align: right;\n    }\n</style>\n<table border=\"1\" class=\"dataframe\">\n  <thead>\n    <tr style=\"text-align: right;\">\n      <th></th>\n      <th>date</th>\n      <th>level</th>\n    </tr>\n  </thead>\n  <tbody>\n    <tr>\n      <th>3219</th>\n      <td>2021-10-23</td>\n      <td>117</td>\n    </tr>\n    <tr>\n      <th>3220</th>\n      <td>2021-10-24</td>\n      <td>105</td>\n    </tr>\n    <tr>\n      <th>3221</th>\n      <td>2021-10-25</td>\n      <td>93</td>\n    </tr>\n    <tr>\n      <th>3222</th>\n      <td>2021-10-26</td>\n      <td>85</td>\n    </tr>\n    <tr>\n      <th>3223</th>\n      <td>2021-10-27</td>\n      <td>82</td>\n    </tr>\n  </tbody>\n</table>\n</div>"
     },
     "execution_count": 23,
     "metadata": {},
     "output_type": "execute_result"
    }
   ],
   "source": [
    "df.tail()"
   ],
   "metadata": {
    "collapsed": false,
    "pycharm": {
     "name": "#%%\n"
    }
   }
  },
  {
   "cell_type": "code",
   "execution_count": 24,
   "outputs": [
    {
     "data": {
      "text/plain": "            date  level\n3204  2021-11-19     86\n3205  2021-11-20     83\n3206  2021-11-21     79\n3207  2021-11-22     75\n3208  2021-11-23     75",
      "text/html": "<div>\n<style scoped>\n    .dataframe tbody tr th:only-of-type {\n        vertical-align: middle;\n    }\n\n    .dataframe tbody tr th {\n        vertical-align: top;\n    }\n\n    .dataframe thead th {\n        text-align: right;\n    }\n</style>\n<table border=\"1\" class=\"dataframe\">\n  <thead>\n    <tr style=\"text-align: right;\">\n      <th></th>\n      <th>date</th>\n      <th>level</th>\n    </tr>\n  </thead>\n  <tbody>\n    <tr>\n      <th>3204</th>\n      <td>2021-11-19</td>\n      <td>86</td>\n    </tr>\n    <tr>\n      <th>3205</th>\n      <td>2021-11-20</td>\n      <td>83</td>\n    </tr>\n    <tr>\n      <th>3206</th>\n      <td>2021-11-21</td>\n      <td>79</td>\n    </tr>\n    <tr>\n      <th>3207</th>\n      <td>2021-11-22</td>\n      <td>75</td>\n    </tr>\n    <tr>\n      <th>3208</th>\n      <td>2021-11-23</td>\n      <td>75</td>\n    </tr>\n  </tbody>\n</table>\n</div>"
     },
     "execution_count": 24,
     "metadata": {},
     "output_type": "execute_result"
    }
   ],
   "source": [
    "df_updated.tail()"
   ],
   "metadata": {
    "collapsed": false,
    "pycharm": {
     "name": "#%%\n"
    }
   }
  },
  {
   "cell_type": "code",
   "source": [
    "print(f'Length of orignal data: {len(df)} vs. Length of updated data: {len(df_updated)}')"
   ],
   "metadata": {
    "collapsed": false,
    "pycharm": {
     "name": "#%%\n"
    }
   },
   "execution_count": 25,
   "outputs": [
    {
     "name": "stdout",
     "output_type": "stream",
     "text": [
      "Length of orignal data: 3224 vs. Length of updated data: 3209\n"
     ]
    }
   ]
  },
  {
   "cell_type": "markdown",
   "source": [
    "So even though the updated data should have 27 more rows than the original data, it has less data. This suggests, that there is data missing in the updated data. This is actually amplified since the updated values has more duplicate values than the original data."
   ],
   "metadata": {
    "collapsed": false,
    "pycharm": {
     "name": "#%% md\n"
    }
   }
  },
  {
   "cell_type": "code",
   "source": [
    "df_updated_index = df_updated.set_index(df_updated['date'])\n",
    "df_updated_index.index = pd.to_datetime(df_updated_index.index)\n",
    "dates = pd.date_range(start=df_updated['date'].iloc[0], end=df_updated['date'].iloc[-1]).difference(df_updated_index.index)\n",
    "print('These are the missing dates on the updated data: \\n', dates)\n",
    "print(f'There are a total of {len(dates)} dates missing.')"
   ],
   "metadata": {
    "collapsed": false,
    "pycharm": {
     "name": "#%%\n"
    }
   },
   "execution_count": 26,
   "outputs": [
    {
     "name": "stdout",
     "output_type": "stream",
     "text": [
      "These are the missing dates on the updated data: \n",
      " DatetimeIndex(['2021-07-23', '2021-07-24', '2021-07-25', '2021-07-26',\n",
      "               '2021-07-27', '2021-07-28', '2021-07-29', '2021-07-30',\n",
      "               '2021-07-31', '2021-08-01', '2021-08-02', '2021-08-03',\n",
      "               '2021-08-04', '2021-08-05', '2021-08-06', '2021-08-07',\n",
      "               '2021-08-08', '2021-08-09', '2021-08-10', '2021-08-11',\n",
      "               '2021-08-12', '2021-08-13', '2021-08-14', '2021-08-15',\n",
      "               '2021-08-16', '2021-08-17', '2021-08-18', '2021-08-19',\n",
      "               '2021-08-20', '2021-08-21', '2021-08-22', '2021-08-23',\n",
      "               '2021-08-24', '2021-08-25', '2021-08-26', '2021-08-27',\n",
      "               '2021-08-28', '2021-08-29', '2021-08-30', '2021-08-31',\n",
      "               '2021-09-01', '2021-09-02', '2021-09-03', '2021-09-04',\n",
      "               '2021-09-05', '2021-09-06', '2021-09-07', '2021-09-08',\n",
      "               '2021-09-09', '2021-09-10', '2021-09-11', '2021-09-12',\n",
      "               '2021-09-13', '2021-09-14', '2021-09-15', '2021-09-16',\n",
      "               '2021-09-17', '2021-09-18', '2021-09-19', '2021-09-20'],\n",
      "              dtype='datetime64[ns]', freq=None)\n",
      "There are a total of 60 dates missing.\n"
     ]
    }
   ]
  },
  {
   "cell_type": "markdown",
   "source": [
    "One can see, that the end of july, the whole august, and part of the september is missing.\n",
    "In the following, I'll have a look at missing data in the original data for completeness."
   ],
   "metadata": {
    "collapsed": false,
    "pycharm": {
     "name": "#%% md\n"
    }
   }
  },
  {
   "cell_type": "code",
   "execution_count": 27,
   "outputs": [
    {
     "name": "stdout",
     "output_type": "stream",
     "text": [
      "These are the missing dates on the updated data: \n",
      " DatetimeIndex([], dtype='datetime64[ns]', freq=None)\n",
      "There are a total of 0 dates missing.\n"
     ]
    }
   ],
   "source": [
    "df_index = df.set_index(df['date'])\n",
    "df_index.index = pd.to_datetime(df_index.index)\n",
    "dates_original = pd.date_range(start=df['date'].iloc[0], end=df['date'].iloc[-1]).difference(df_index.index)\n",
    "print('These are the missing dates on the updated data: \\n', dates_original)\n",
    "print(f'There are a total of {len(dates_original)} dates missing.')"
   ],
   "metadata": {
    "collapsed": false,
    "pycharm": {
     "name": "#%%\n"
    }
   }
  },
  {
   "cell_type": "code",
   "execution_count": 27,
   "outputs": [],
   "source": [],
   "metadata": {
    "collapsed": false,
    "pycharm": {
     "name": "#%%\n"
    }
   }
  },
  {
   "cell_type": "markdown",
   "source": [],
   "metadata": {
    "collapsed": false,
    "pycharm": {
     "name": "#%% md\n"
    }
   }
  }
 ],
 "metadata": {
  "kernelspec": {
   "display_name": "Python 3",
   "language": "python",
   "name": "python3"
  },
  "language_info": {
   "codemirror_mode": {
    "name": "ipython",
    "version": 2
   },
   "file_extension": ".py",
   "mimetype": "text/x-python",
   "name": "python",
   "nbconvert_exporter": "python",
   "pygments_lexer": "ipython2",
   "version": "2.7.6"
  }
 },
 "nbformat": 4,
 "nbformat_minor": 0
}